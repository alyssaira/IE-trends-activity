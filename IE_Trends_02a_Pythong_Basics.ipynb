{
  "nbformat": 4,
  "nbformat_minor": 0,
  "metadata": {
    "colab": {
      "name": "Untitled0.ipynb",
      "provenance": [],
      "toc_visible": true,
      "authorship_tag": "ABX9TyND9depuXBZsPAx6EGaV96O",
      "include_colab_link": true
    },
    "kernelspec": {
      "name": "python3",
      "display_name": "Python 3"
    },
    "language_info": {
      "name": "python"
    }
  },
  "cells": [
    {
      "cell_type": "markdown",
      "metadata": {
        "id": "view-in-github",
        "colab_type": "text"
      },
      "source": [
        "<a href=\"https://colab.research.google.com/github/alyssaira/IE-trends-activity/blob/main/IE_Trends_02a_Pythong_Basics.ipynb\" target=\"_parent\"><img src=\"https://colab.research.google.com/assets/colab-badge.svg\" alt=\"Open In Colab\"/></a>"
      ]
    },
    {
      "cell_type": "markdown",
      "metadata": {
        "id": "KACk1CU7EALm"
      },
      "source": [
        "Python for Data Analytics"
      ]
    },
    {
      "cell_type": "markdown",
      "metadata": {
        "id": "3dA8JgIaE2D3"
      },
      "source": [
        "# Python Basics\n",
        "This section reviews programming fundamentals using Python."
      ]
    },
    {
      "cell_type": "code",
      "metadata": {
        "id": "aXJsgU5ZGvZ-"
      },
      "source": [
        ""
      ],
      "execution_count": null,
      "outputs": []
    },
    {
      "cell_type": "markdown",
      "metadata": {
        "id": "jAiwHRraGwfE"
      },
      "source": [
        "## Variables and Values"
      ]
    },
    {
      "cell_type": "code",
      "metadata": {
        "id": "2HdQzYLIPuyP"
      },
      "source": [
        "x = 10\n",
        "a = 'a'\n",
        "y = 3.14"
      ],
      "execution_count": 14,
      "outputs": []
    },
    {
      "cell_type": "markdown",
      "metadata": {
        "id": "k5Nz_-5GuPc4"
      },
      "source": [
        "## Printing"
      ]
    },
    {
      "cell_type": "code",
      "metadata": {
        "colab": {
          "base_uri": "https://localhost:8080/"
        },
        "id": "i-TezQIPue7C",
        "outputId": "e05d10ed-02e8-47cd-fd60-5d487c6780b0"
      },
      "source": [
        "print(x)\n",
        "print(y)"
      ],
      "execution_count": 15,
      "outputs": [
        {
          "output_type": "stream",
          "text": [
            "10\n",
            "3.14\n"
          ],
          "name": "stdout"
        }
      ]
    },
    {
      "cell_type": "markdown",
      "metadata": {
        "id": "RsVO063NvgN9"
      },
      "source": [
        "## Operations"
      ]
    },
    {
      "cell_type": "code",
      "metadata": {
        "colab": {
          "base_uri": "https://localhost:8080/"
        },
        "id": "-3ueo109vjoH",
        "outputId": "46593b00-a4bb-4e85-b421-ba06e27876eb"
      },
      "source": [
        "## Addition (also a comment line)\n",
        "z1=x+y\n",
        "## Subtraction (also a comment line)\n",
        "z2=x-y\n",
        "## Multiplication (also a comment line)\n",
        "z3=x*y\n",
        "## Division (also a comment line)\n",
        "z4=x/y\n",
        "z4"
      ],
      "execution_count": 19,
      "outputs": [
        {
          "output_type": "execute_result",
          "data": {
            "text/plain": [
              "3.184713375796178"
            ]
          },
          "metadata": {
            "tags": []
          },
          "execution_count": 19
        }
      ]
    },
    {
      "cell_type": "markdown",
      "metadata": {
        "id": "Gti4GRTjx2JF"
      },
      "source": [
        "Coding $2^5$"
      ]
    },
    {
      "cell_type": "code",
      "metadata": {
        "colab": {
          "base_uri": "https://localhost:8080/"
        },
        "id": "h1iKWcZCxnmU",
        "outputId": "7b93fd1b-3c2b-479e-dc94-fc34ef1b6d6b"
      },
      "source": [
        "## Exponentiation \n",
        "z5=2**5\n",
        "## Floor Division\n",
        "z6=round(19/2)\n",
        "## Trigonometric\n",
        "import math\n",
        "# math.sin(y) + math.cos(x)"
      ],
      "execution_count": 30,
      "outputs": [
        {
          "output_type": "stream",
          "text": [
            "10\n"
          ],
          "name": "stdout"
        }
      ]
    },
    {
      "cell_type": "markdown",
      "metadata": {
        "id": "2Lj6p4LT3JRG"
      },
      "source": [
        "$\\sin(y)+\\cos(x)$"
      ]
    },
    {
      "cell_type": "markdown",
      "metadata": {
        "id": "xB5GF5TA4YS7"
      },
      "source": [
        "### Loops"
      ]
    },
    {
      "cell_type": "markdown",
      "metadata": {
        "id": "cvG_zKR86Bse"
      },
      "source": [
        "$\\sum{\\sin(i)+\\cos(i+\\pi)}$"
      ]
    },
    {
      "cell_type": "code",
      "metadata": {
        "colab": {
          "base_uri": "https://localhost:8080/"
        },
        "id": "ry6gYNh-4e7S",
        "outputId": "390f2804-a32f-4e42-e49e-575205a76715"
      },
      "source": [
        "## Summation\n",
        "tz=0\n",
        "for i in range(0,10): ##range(min,max) --> min to max-1\n",
        "  tz+=math.sin(i)+math.cos(i+math.pi)\n",
        "  print(tz)\n",
        "  # print(tz)"
      ],
      "execution_count": 49,
      "outputs": [
        {
          "output_type": "stream",
          "text": [
            "-1.0\n",
            "-0.6988313210602433\n",
            "0.6266129423125808\n",
            "1.7577254469728933\n",
            "1.6545665725285772\n",
            "0.41198011240221266\n",
            "-0.827605672447079\n",
            "-0.9245213280715947\n",
            "0.2103369523604004\n",
            "1.533585699486834\n"
          ],
          "name": "stdout"
        }
      ]
    },
    {
      "cell_type": "markdown",
      "metadata": {
        "id": "OTZ4KqtPvll8"
      },
      "source": [
        "## Functions"
      ]
    },
    {
      "cell_type": "markdown",
      "metadata": {
        "id": "bv8DYFOf9iO6"
      },
      "source": [
        "$S-i^2$"
      ]
    },
    {
      "cell_type": "code",
      "metadata": {
        "colab": {
          "base_uri": "https://localhost:8080/"
        },
        "id": "az3mB3fyvr24",
        "outputId": "9e0c7479-77f7-41c8-91f2-1e0e3dd1a2b9"
      },
      "source": [
        "s=0\n",
        "for i in range(0,10):\n",
        "  s+=i\n",
        "  h=s-i**2\n",
        "  print(equation1(s,i))"
      ],
      "execution_count": 63,
      "outputs": [
        {
          "output_type": "stream",
          "text": [
            "0\n",
            "0\n",
            "-1\n",
            "-3\n",
            "-6\n",
            "-10\n",
            "-15\n",
            "-21\n",
            "-28\n",
            "-36\n"
          ],
          "name": "stdout"
        }
      ]
    },
    {
      "cell_type": "code",
      "metadata": {
        "id": "Vw5qFMmrBgbx"
      },
      "source": [
        "def equation1(s,i): \n",
        "  return s-i**2"
      ],
      "execution_count": 60,
      "outputs": []
    }
  ]
}