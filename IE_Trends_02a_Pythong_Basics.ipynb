{
  "nbformat": 4,
  "nbformat_minor": 0,
  "metadata": {
    "colab": {
      "name": "Untitled0.ipynb",
      "provenance": [],
      "toc_visible": true,
      "authorship_tag": "ABX9TyPRU7+CMtTs/BHc6zNe0k5y",
      "include_colab_link": true
    },
    "kernelspec": {
      "name": "python3",
      "display_name": "Python 3"
    },
    "language_info": {
      "name": "python"
    }
  },
  "cells": [
    {
      "cell_type": "markdown",
      "metadata": {
        "id": "view-in-github",
        "colab_type": "text"
      },
      "source": [
        "<a href=\"https://colab.research.google.com/github/alyssaira/IE-trends-activity/blob/main/IE_Trends_02a_Pythong_Basics.ipynb\" target=\"_parent\"><img src=\"https://colab.research.google.com/assets/colab-badge.svg\" alt=\"Open In Colab\"/></a>"
      ]
    },
    {
      "cell_type": "markdown",
      "metadata": {
        "id": "3dA8JgIaE2D3"
      },
      "source": [
        "# Python Basics\n",
        "This section reviews programming fundamentals using Python."
      ]
    },
    {
      "cell_type": "code",
      "metadata": {
        "id": "aXJsgU5ZGvZ-"
      },
      "source": [
        "1 "
      ],
      "execution_count": null,
      "outputs": []
    },
    {
      "cell_type": "markdown",
      "metadata": {
        "id": "jAiwHRraGwfE"
      },
      "source": [
        "## Variables"
      ]
    },
    {
      "cell_type": "code",
      "metadata": {
        "id": "OfH5qr9DG4H9"
      },
      "source": [
        "1"
      ],
      "execution_count": null,
      "outputs": []
    }
  ]
}